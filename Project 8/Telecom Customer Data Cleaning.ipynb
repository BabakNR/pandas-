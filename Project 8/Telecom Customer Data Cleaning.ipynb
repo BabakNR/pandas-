{
 "cells": [
  {
   "cell_type": "markdown",
   "id": "121ea365",
   "metadata": {},
   "source": [
    "# Telecom Customer Data Cleaning\n",
    "\n",
    "This notebook covers step-by-step data cleaning for a telecom customer call records dataset.\n",
    "\n",
    "---"
   ]
  },
  {
   "cell_type": "markdown",
   "id": "d4677070",
   "metadata": {},
   "source": [
    "## 1. Load Dataset and Initial Inspection"
   ]
  },
  {
   "cell_type": "code",
   "execution_count": 2,
   "id": "674c48e9",
   "metadata": {},
   "outputs": [
    {
     "name": "stdout",
     "output_type": "stream",
     "text": [
      "Initial dataset shape: (101174, 17)\n"
     ]
    }
   ],
   "source": [
    "import pandas as pd\n",
    "\n",
    "# Load the dataset\n",
    "df = pd.read_csv('C:\\\\Users\\\\Ali\\\\Desktop\\\\Call Details-Data.csv')\n",
    "\n",
    "# Show initial shape and info\n",
    "print(f\"Initial dataset shape: {df.shape}\")"
   ]
  },
  {
   "cell_type": "code",
   "execution_count": 3,
   "id": "d9147bcb-a266-4a60-a745-db75e0631170",
   "metadata": {},
   "outputs": [
    {
     "name": "stdout",
     "output_type": "stream",
     "text": [
      "<class 'pandas.core.frame.DataFrame'>\n",
      "RangeIndex: 101174 entries, 0 to 101173\n",
      "Data columns (total 17 columns):\n",
      " #   Column          Non-Null Count   Dtype  \n",
      "---  ------          --------------   -----  \n",
      " 0   Phone Number    101174 non-null  object \n",
      " 1   Account Length  101174 non-null  int64  \n",
      " 2   VMail Message   101174 non-null  int64  \n",
      " 3   Day Mins        101174 non-null  float64\n",
      " 4   Day Calls       101174 non-null  int64  \n",
      " 5   Day Charge      101174 non-null  float64\n",
      " 6   Eve Mins        101174 non-null  float64\n",
      " 7   Eve Calls       101174 non-null  int64  \n",
      " 8   Eve Charge      101174 non-null  float64\n",
      " 9   Night Mins      101174 non-null  float64\n",
      " 10  Night Calls     101174 non-null  int64  \n",
      " 11  Night Charge    101174 non-null  float64\n",
      " 12  Intl Mins       101174 non-null  float64\n",
      " 13  Intl Calls      101174 non-null  int64  \n",
      " 14  Intl Charge     101174 non-null  float64\n",
      " 15  CustServ Calls  101174 non-null  int64  \n",
      " 16  Churn           101174 non-null  bool   \n",
      "dtypes: bool(1), float64(8), int64(7), object(1)\n",
      "memory usage: 12.4+ MB\n"
     ]
    }
   ],
   "source": [
    "df.info()"
   ]
  },
  {
   "cell_type": "code",
   "execution_count": 4,
   "id": "cd997dc6-4690-45cd-ba8b-794aa1c7d985",
   "metadata": {},
   "outputs": [
    {
     "data": {
      "text/html": [
       "<div>\n",
       "<style scoped>\n",
       "    .dataframe tbody tr th:only-of-type {\n",
       "        vertical-align: middle;\n",
       "    }\n",
       "\n",
       "    .dataframe tbody tr th {\n",
       "        vertical-align: top;\n",
       "    }\n",
       "\n",
       "    .dataframe thead th {\n",
       "        text-align: right;\n",
       "    }\n",
       "</style>\n",
       "<table border=\"1\" class=\"dataframe\">\n",
       "  <thead>\n",
       "    <tr style=\"text-align: right;\">\n",
       "      <th></th>\n",
       "      <th>Phone Number</th>\n",
       "      <th>Account Length</th>\n",
       "      <th>VMail Message</th>\n",
       "      <th>Day Mins</th>\n",
       "      <th>Day Calls</th>\n",
       "      <th>Day Charge</th>\n",
       "      <th>Eve Mins</th>\n",
       "      <th>Eve Calls</th>\n",
       "      <th>Eve Charge</th>\n",
       "      <th>Night Mins</th>\n",
       "      <th>Night Calls</th>\n",
       "      <th>Night Charge</th>\n",
       "      <th>Intl Mins</th>\n",
       "      <th>Intl Calls</th>\n",
       "      <th>Intl Charge</th>\n",
       "      <th>CustServ Calls</th>\n",
       "      <th>Churn</th>\n",
       "    </tr>\n",
       "  </thead>\n",
       "  <tbody>\n",
       "    <tr>\n",
       "      <th>0</th>\n",
       "      <td>382-4657</td>\n",
       "      <td>128</td>\n",
       "      <td>25</td>\n",
       "      <td>265.1</td>\n",
       "      <td>110</td>\n",
       "      <td>45.07</td>\n",
       "      <td>197.4</td>\n",
       "      <td>99</td>\n",
       "      <td>16.78</td>\n",
       "      <td>244.7</td>\n",
       "      <td>91</td>\n",
       "      <td>11.01</td>\n",
       "      <td>10.0</td>\n",
       "      <td>3</td>\n",
       "      <td>2.70</td>\n",
       "      <td>1</td>\n",
       "      <td>False</td>\n",
       "    </tr>\n",
       "    <tr>\n",
       "      <th>1</th>\n",
       "      <td>371-7191</td>\n",
       "      <td>107</td>\n",
       "      <td>26</td>\n",
       "      <td>161.6</td>\n",
       "      <td>123</td>\n",
       "      <td>27.47</td>\n",
       "      <td>195.5</td>\n",
       "      <td>103</td>\n",
       "      <td>16.62</td>\n",
       "      <td>254.4</td>\n",
       "      <td>103</td>\n",
       "      <td>11.45</td>\n",
       "      <td>13.7</td>\n",
       "      <td>3</td>\n",
       "      <td>3.70</td>\n",
       "      <td>1</td>\n",
       "      <td>False</td>\n",
       "    </tr>\n",
       "    <tr>\n",
       "      <th>2</th>\n",
       "      <td>358-1921</td>\n",
       "      <td>137</td>\n",
       "      <td>0</td>\n",
       "      <td>243.4</td>\n",
       "      <td>114</td>\n",
       "      <td>41.38</td>\n",
       "      <td>121.2</td>\n",
       "      <td>110</td>\n",
       "      <td>10.30</td>\n",
       "      <td>162.6</td>\n",
       "      <td>104</td>\n",
       "      <td>7.32</td>\n",
       "      <td>12.2</td>\n",
       "      <td>5</td>\n",
       "      <td>3.29</td>\n",
       "      <td>0</td>\n",
       "      <td>False</td>\n",
       "    </tr>\n",
       "    <tr>\n",
       "      <th>3</th>\n",
       "      <td>375-9999</td>\n",
       "      <td>84</td>\n",
       "      <td>0</td>\n",
       "      <td>299.4</td>\n",
       "      <td>71</td>\n",
       "      <td>50.90</td>\n",
       "      <td>61.9</td>\n",
       "      <td>88</td>\n",
       "      <td>5.26</td>\n",
       "      <td>196.9</td>\n",
       "      <td>89</td>\n",
       "      <td>8.86</td>\n",
       "      <td>6.6</td>\n",
       "      <td>7</td>\n",
       "      <td>1.78</td>\n",
       "      <td>2</td>\n",
       "      <td>False</td>\n",
       "    </tr>\n",
       "    <tr>\n",
       "      <th>4</th>\n",
       "      <td>330-6626</td>\n",
       "      <td>75</td>\n",
       "      <td>0</td>\n",
       "      <td>166.7</td>\n",
       "      <td>113</td>\n",
       "      <td>28.34</td>\n",
       "      <td>148.3</td>\n",
       "      <td>122</td>\n",
       "      <td>12.61</td>\n",
       "      <td>186.9</td>\n",
       "      <td>121</td>\n",
       "      <td>8.41</td>\n",
       "      <td>10.1</td>\n",
       "      <td>3</td>\n",
       "      <td>2.73</td>\n",
       "      <td>3</td>\n",
       "      <td>False</td>\n",
       "    </tr>\n",
       "  </tbody>\n",
       "</table>\n",
       "</div>"
      ],
      "text/plain": [
       "  Phone Number  Account Length  VMail Message  Day Mins  Day Calls  \\\n",
       "0     382-4657             128             25     265.1        110   \n",
       "1     371-7191             107             26     161.6        123   \n",
       "2     358-1921             137              0     243.4        114   \n",
       "3     375-9999              84              0     299.4         71   \n",
       "4     330-6626              75              0     166.7        113   \n",
       "\n",
       "   Day Charge  Eve Mins  Eve Calls  Eve Charge  Night Mins  Night Calls  \\\n",
       "0       45.07     197.4         99       16.78       244.7           91   \n",
       "1       27.47     195.5        103       16.62       254.4          103   \n",
       "2       41.38     121.2        110       10.30       162.6          104   \n",
       "3       50.90      61.9         88        5.26       196.9           89   \n",
       "4       28.34     148.3        122       12.61       186.9          121   \n",
       "\n",
       "   Night Charge  Intl Mins  Intl Calls  Intl Charge  CustServ Calls  Churn  \n",
       "0         11.01       10.0           3         2.70               1  False  \n",
       "1         11.45       13.7           3         3.70               1  False  \n",
       "2          7.32       12.2           5         3.29               0  False  \n",
       "3          8.86        6.6           7         1.78               2  False  \n",
       "4          8.41       10.1           3         2.73               3  False  "
      ]
     },
     "execution_count": 4,
     "metadata": {},
     "output_type": "execute_result"
    }
   ],
   "source": [
    "df.head()"
   ]
  },
  {
   "cell_type": "markdown",
   "id": "7cbba8f4",
   "metadata": {},
   "source": [
    "## 2. Check Missing Values"
   ]
  },
  {
   "cell_type": "code",
   "execution_count": 5,
   "id": "ba6a57e7",
   "metadata": {},
   "outputs": [
    {
     "name": "stdout",
     "output_type": "stream",
     "text": [
      "Missing values per column:\n",
      "Phone Number      0\n",
      "Account Length    0\n",
      "VMail Message     0\n",
      "Day Mins          0\n",
      "Day Calls         0\n",
      "Day Charge        0\n",
      "Eve Mins          0\n",
      "Eve Calls         0\n",
      "Eve Charge        0\n",
      "Night Mins        0\n",
      "Night Calls       0\n",
      "Night Charge      0\n",
      "Intl Mins         0\n",
      "Intl Calls        0\n",
      "Intl Charge       0\n",
      "CustServ Calls    0\n",
      "Churn             0\n",
      "dtype: int64\n"
     ]
    }
   ],
   "source": [
    "# Count missing values per column\n",
    "missing = df.isnull().sum()\n",
    "print(\"Missing values per column:\")\n",
    "print(missing)"
   ]
  },
  {
   "cell_type": "markdown",
   "id": "a931180f",
   "metadata": {},
   "source": [
    "## 3. Remove Duplicate Rows"
   ]
  },
  {
   "cell_type": "code",
   "execution_count": 7,
   "id": "9cb90680",
   "metadata": {},
   "outputs": [
    {
     "name": "stdout",
     "output_type": "stream",
     "text": [
      "Duplicate rows before removal: 40729\n"
     ]
    }
   ],
   "source": [
    "dup_count = df.duplicated().sum()\n",
    "print(f\"Duplicate rows before removal: {dup_count}\")"
   ]
  },
  {
   "cell_type": "code",
   "execution_count": 12,
   "id": "f284ca84-7110-42af-b9e4-87691ce31a75",
   "metadata": {},
   "outputs": [],
   "source": [
    "df = df.drop_duplicates()"
   ]
  },
  {
   "cell_type": "code",
   "execution_count": 13,
   "id": "eaa814dd-be52-45ed-8f09-e09a12db6531",
   "metadata": {},
   "outputs": [
    {
     "name": "stdout",
     "output_type": "stream",
     "text": [
      "Duplicate rows after removal: 0\n"
     ]
    }
   ],
   "source": [
    "dup_count_after = df.duplicated().sum()\n",
    "print(f\"Duplicate rows after removal: {dup_count_after}\")"
   ]
  },
  {
   "cell_type": "markdown",
   "id": "0a65abd9",
   "metadata": {},
   "source": [
    "## 4. Clean Phone Numbers\n",
    "\n",
    "- Remove spaces, dashes, parentheses\n",
    "- Ensure country code prefix (e.g., +1) exists"
   ]
  },
  {
   "cell_type": "code",
   "execution_count": 19,
   "id": "7b29f010-a829-4f2f-aa02-e51625a83d9a",
   "metadata": {},
   "outputs": [
    {
     "name": "stdout",
     "output_type": "stream",
     "text": [
      "0    +13824657\n",
      "1    +13717191\n",
      "2    +13581921\n",
      "3    +13759999\n",
      "4    +13306626\n",
      "Name: Phone Number, dtype: object\n"
     ]
    }
   ],
   "source": [
    "import re\n",
    "import pandas as pd\n",
    "\n",
    "def clean_phone(phone):\n",
    "    if pd.isna(phone):\n",
    "        return phone\n",
    "    phone = str(phone).strip()\n",
    "    # Remove all characters except digits and plus sign\n",
    "    phone = re.sub(r'[^\\d+]', '', phone)\n",
    "    # Add +1 country code if missing (change this as needed)\n",
    "    if not phone.startswith('+'):\n",
    "        phone = '+1' + phone\n",
    "    return phone\n",
    "\n",
    "# Assuming your phone number column is named 'Phone Number'\n",
    "df['Phone Number'] = df['Phone Number'].apply(clean_phone)\n",
    "\n",
    "# Show first few cleaned phone numbers\n",
    "print(df['Phone Number'].head())\n"
   ]
  },
  {
   "cell_type": "markdown",
   "id": "2c458ce1-4099-469f-bf02-3cc538e45627",
   "metadata": {},
   "source": [
    "#### 6. Detect and Remove Outliers (Numeric Columns)\n",
    "\n",
    "- Using IQR method\n",
    "- Visualize with boxplots"
   ]
  },
  {
   "cell_type": "code",
   "execution_count": 20,
   "id": "e15eb703",
   "metadata": {},
   "outputs": [
    {
     "name": "stdout",
     "output_type": "stream",
     "text": [
      "Dataset shape after outlier removal: (60445, 17)\n"
     ]
    }
   ],
   "source": [
    "import matplotlib.pyplot as plt\n",
    "import seaborn as sns\n",
    "\n",
    "def detect_outliers_iqr(data, col):\n",
    "    Q1 = data[col].quantile(0.25)\n",
    "    Q3 = data[col].quantile(0.75)\n",
    "    IQR = Q3 - Q1\n",
    "    lower_bound = Q1 - 1.5*IQR\n",
    "    upper_bound = Q3 + 1.5*IQR\n",
    "    outliers = data[(data[col] < lower_bound) | (data[col] > upper_bound)]\n",
    "    return outliers.index\n",
    "\n",
    "numeric_cols = ['call_duration', 'charge_amount']  # change as per dataset\n",
    "\n",
    "for col in numeric_cols:\n",
    "    if col in df.columns:\n",
    "        plt.figure(figsize=(8,4))\n",
    "        sns.boxplot(x=df[col])\n",
    "        plt.title(f'Boxplot for {col}')\n",
    "        plt.show()\n",
    "\n",
    "        outlier_idxs = detect_outliers_iqr(df, col)\n",
    "        print(f'Number of outliers detected in {col}: {len(outlier_idxs)}')\n",
    "\n",
    "        # Drop outliers\n",
    "        df = df.drop(index=outlier_idxs)\n",
    "\n",
    "print(f\"Dataset shape after outlier removal: {df.shape}\")"
   ]
  },
  {
   "cell_type": "markdown",
   "id": "e3c5fa91",
   "metadata": {},
   "source": [
    "## 7. Final Check and Save Cleaned Data"
   ]
  },
  {
   "cell_type": "code",
   "execution_count": 21,
   "id": "22d1c470",
   "metadata": {},
   "outputs": [
    {
     "name": "stdout",
     "output_type": "stream",
     "text": [
      "Final dataset info:\n",
      "<class 'pandas.core.frame.DataFrame'>\n",
      "Index: 60445 entries, 0 to 101173\n",
      "Data columns (total 17 columns):\n",
      " #   Column          Non-Null Count  Dtype  \n",
      "---  ------          --------------  -----  \n",
      " 0   Phone Number    60445 non-null  object \n",
      " 1   Account Length  60445 non-null  int64  \n",
      " 2   VMail Message   60445 non-null  int64  \n",
      " 3   Day Mins        60445 non-null  float64\n",
      " 4   Day Calls       60445 non-null  int64  \n",
      " 5   Day Charge      60445 non-null  float64\n",
      " 6   Eve Mins        60445 non-null  float64\n",
      " 7   Eve Calls       60445 non-null  int64  \n",
      " 8   Eve Charge      60445 non-null  float64\n",
      " 9   Night Mins      60445 non-null  float64\n",
      " 10  Night Calls     60445 non-null  int64  \n",
      " 11  Night Charge    60445 non-null  float64\n",
      " 12  Intl Mins       60445 non-null  float64\n",
      " 13  Intl Calls      60445 non-null  int64  \n",
      " 14  Intl Charge     60445 non-null  float64\n",
      " 15  CustServ Calls  60445 non-null  int64  \n",
      " 16  Churn           60445 non-null  bool   \n",
      "dtypes: bool(1), float64(8), int64(7), object(1)\n",
      "memory usage: 7.9+ MB\n"
     ]
    }
   ],
   "source": [
    "print(\"Final dataset info:\")\n",
    "df.info()"
   ]
  },
  {
   "cell_type": "code",
   "execution_count": 24,
   "id": "4c80b00d-7eb8-499a-b6a5-374f73d83ec5",
   "metadata": {},
   "outputs": [
    {
     "name": "stdout",
     "output_type": "stream",
     "text": [
      "Cleaned data saved to C:\\Users\\Ali\\Desktop\\cleaned_cdr.csv\n"
     ]
    }
   ],
   "source": [
    "df.to_csv('C:\\\\Users\\\\Ali\\\\Desktop\\\\cleaned_cdr.csv', index=False)\n",
    "print(\"Cleaned data saved to C:\\\\Users\\\\Ali\\\\Desktop\\\\cleaned_cdr.csv\")"
   ]
  },
  {
   "cell_type": "code",
   "execution_count": null,
   "id": "77490125-4ab0-42e5-b4bb-2da313a4e9c5",
   "metadata": {},
   "outputs": [],
   "source": []
  }
 ],
 "metadata": {
  "kernelspec": {
   "display_name": "Python 3 (ipykernel)",
   "language": "python",
   "name": "python3"
  },
  "language_info": {
   "codemirror_mode": {
    "name": "ipython",
    "version": 3
   },
   "file_extension": ".py",
   "mimetype": "text/x-python",
   "name": "python",
   "nbconvert_exporter": "python",
   "pygments_lexer": "ipython3",
   "version": "3.11.7"
  }
 },
 "nbformat": 4,
 "nbformat_minor": 5
}
